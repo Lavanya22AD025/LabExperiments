{
  "nbformat": 4,
  "nbformat_minor": 0,
  "metadata": {
    "colab": {
      "provenance": [],
      "authorship_tag": "ABX9TyOKjGzokyAikAcGbrS/SlbT",
      "include_colab_link": true
    },
    "kernelspec": {
      "name": "python3",
      "display_name": "Python 3"
    },
    "language_info": {
      "name": "python"
    }
  },
  "cells": [
    {
      "cell_type": "markdown",
      "metadata": {
        "id": "view-in-github",
        "colab_type": "text"
      },
      "source": [
        "<a href=\"https://colab.research.google.com/github/Lavanya22AD025/LabExperiments/blob/main/Lab_Experiments.ipynb\" target=\"_parent\"><img src=\"https://colab.research.google.com/assets/colab-badge.svg\" alt=\"Open In Colab\"/></a>"
      ]
    },
    {
      "cell_type": "code",
      "execution_count": null,
      "metadata": {
        "colab": {
          "base_uri": "https://localhost:8080/"
        },
        "id": "sTsG5NnXgym5",
        "outputId": "ca3d0239-8390-4f17-82a0-153a1b8c178a"
      },
      "outputs": [
        {
          "output_type": "stream",
          "name": "stdout",
          "text": [
            "Enter a number  13\n",
            "The Factorial is 6227020800. The length is 10.\n"
          ]
        }
      ],
      "source": [
        "# Experiment 1\n",
        "import math\n",
        "def fact(n):\n",
        "  fact=math.factorial(n)\n",
        "  return fact\n",
        "\n",
        "def pal(n):\n",
        "  n=str(n)\n",
        "  rev=n[::-1]\n",
        "  if n==rev:\n",
        "    return True\n",
        "  else:\n",
        "    return False\n",
        "\n",
        "n=int(input(\"Enter a number  \"))\n",
        "if n%2!=0:\n",
        "  fact=fact(n)\n",
        "  length = len(str(fact))\n",
        "  print(\"The Factorial is {}. The length is {}.\".format(fact,length))\n",
        "elif n%2==0:\n",
        "  pal=pal(n)\n",
        "  print(\"Palindrome:\",pal)\n"
      ]
    },
    {
      "cell_type": "code",
      "source": [
        "# Experiment 2\n",
        "str1 = input('Enter string 1: ')\n",
        "str2 = input('Enter string 2: ')\n",
        "count = 0\n",
        "for i in str1:\n",
        "  for j in str2:\n",
        "    if i == j:\n",
        "      count += 1\n",
        "if count == len(str2):\n",
        "  print(\"Yes\")\n",
        "else:\n",
        "  print(\"No\")\n",
        "\n"
      ],
      "metadata": {
        "colab": {
          "base_uri": "https://localhost:8080/"
        },
        "id": "KpBZB6xpiVSR",
        "outputId": "39723de7-c8fa-4300-f59e-e645e3867f99"
      },
      "execution_count": null,
      "outputs": [
        {
          "output_type": "stream",
          "name": "stdout",
          "text": [
            "Enter string 1: gopertshsd\n",
            "Enter string 2: ptg\n",
            "Yes\n"
          ]
        }
      ]
    },
    {
      "cell_type": "code",
      "source": [
        "# Experiment 3\n",
        "li = [] #declaring empty list\n",
        "li = list(input().split()) #getting user input for list\n",
        "first = li[0]\n",
        "print(\"the first element of the list is\",first) #getting first element of list\n",
        "last = li[-1]\n",
        "print(\"the last element of the list is\",last) #getting last element of list\n",
        "li2 = li[-3:]\n",
        "print(\"the last 3 elements are\", li2) #getting last 3 elements of list as a list\n",
        "\n"
      ],
      "metadata": {
        "colab": {
          "base_uri": "https://localhost:8080/"
        },
        "id": "JjBaJH1ylt4h",
        "outputId": "5d3aa2fc-3259-42f0-cbc9-c394edbfb0fe"
      },
      "execution_count": null,
      "outputs": [
        {
          "output_type": "stream",
          "name": "stdout",
          "text": [
            "1 2 3 4 5\n",
            "the first element of the list is 1\n",
            "the last element of the list is 5\n",
            "the last 3 elements are ['3', '4', '5']\n"
          ]
        }
      ]
    },
    {
      "cell_type": "code",
      "source": [
        "# Experiment 4\n",
        "li = list(map(int,input().split()))\n",
        "flag = 0\n",
        "for i in range(len(li) - 1):\n",
        "  if li[i] <= li[i+1]:\n",
        "    continue\n",
        "  else:\n",
        "    print(\"It is not in ascending order\")\n",
        "    flag = 1\n",
        "    break\n",
        "\n",
        "if flag == 0:\n",
        "  print(\"It is in ascending order\")\n",
        "\n",
        "\n"
      ],
      "metadata": {
        "colab": {
          "base_uri": "https://localhost:8080/"
        },
        "id": "EQ-TMFD_oNhR",
        "outputId": "6a7c6cd4-1c02-4e28-f285-d5859d733043"
      },
      "execution_count": null,
      "outputs": [
        {
          "output_type": "stream",
          "name": "stdout",
          "text": [
            "1 4 2 3\n",
            "It is not in ascending order\n"
          ]
        }
      ]
    },
    {
      "cell_type": "code",
      "source": [
        "# Experiment 5\n",
        "tu = tuple(map(int, input().split()))\n",
        "string = ''\n",
        "for i in range(len(tu) - 1):\n",
        "  string += str(tu[i])\n",
        "print('the string is ', string, '\\n', type(string))\n"
      ],
      "metadata": {
        "colab": {
          "base_uri": "https://localhost:8080/"
        },
        "id": "NXgQTj6nuzEq",
        "outputId": "61521639-7cdc-4dd5-aead-b804759aa390"
      },
      "execution_count": null,
      "outputs": [
        {
          "output_type": "stream",
          "name": "stdout",
          "text": [
            "1 2 3 45 78 90\n",
            "the string is  1234578 \n",
            " <class 'str'>\n"
          ]
        }
      ]
    },
    {
      "cell_type": "code",
      "source": [
        "# Experiment 6\n",
        "tu = tuple(map(int, input().split()))\n",
        "string = ''\n",
        "for i in range(len(tu)):\n",
        "  string += str(tu[i])\n",
        "string = string[::-1]\n",
        "revtu = ()\n",
        "for i in string:\n",
        "   revtu += (int(i),)\n",
        "\n",
        "\n",
        "print(\"the reversed tuple is\", revtu)"
      ],
      "metadata": {
        "id": "vL0EGBi_w8te",
        "colab": {
          "base_uri": "https://localhost:8080/"
        },
        "outputId": "37c16f79-b5b7-4b81-d094-4793365fb390"
      },
      "execution_count": null,
      "outputs": [
        {
          "output_type": "stream",
          "name": "stdout",
          "text": [
            "1 2 3 4\n",
            "the reversed tuple is (4, 3, 2, 1)\n"
          ]
        }
      ]
    },
    {
      "cell_type": "code",
      "source": [
        "# Experiment 7\n",
        "set1 = set(input(\"Input first set:  \").split())\n",
        "set2 = set(input(\"Input second set:  \").split())\n",
        "if set1.issubset(set2):\n",
        "  print(\"The first set is a subset of the second set\")\n",
        "\n",
        "else:\n",
        "  print(\"It is not a subset\")"
      ],
      "metadata": {
        "colab": {
          "base_uri": "https://localhost:8080/"
        },
        "id": "C6kyL4qKL-CQ",
        "outputId": "5d18f138-683e-44b4-dc1e-03aea5083f59"
      },
      "execution_count": null,
      "outputs": [
        {
          "output_type": "stream",
          "name": "stdout",
          "text": [
            "Input first set:  1 2 3 \n",
            "Input second set:  1 5 6\n",
            "It is not a subset\n"
          ]
        }
      ]
    },
    {
      "cell_type": "code",
      "source": [
        "# Experiment 8\n",
        "color = {}\n",
        "n = int(input(\"Enter the number of elements \"))\n",
        "for i in range(n):\n",
        "  key = input(\"Enter the key: \")\n",
        "  value = input(\"Enter the value: \")\n",
        "  color[key] = value\n",
        "print(\"Dictionary elements are: \\n\")\n",
        "for key, value in color.items():\n",
        "  print(key, value)"
      ],
      "metadata": {
        "colab": {
          "base_uri": "https://localhost:8080/"
        },
        "id": "yAGI1LuxOEgq",
        "outputId": "04548b81-6ee8-4aaf-e86a-904ff40b0ca2"
      },
      "execution_count": null,
      "outputs": [
        {
          "output_type": "stream",
          "name": "stdout",
          "text": [
            "Enter the number of elements 5\n",
            "Enter the key: 1\n",
            "Enter the value: red\n",
            "Enter the key: 2\n",
            "Enter the value: green\n",
            "Enter the key: 3\n",
            "Enter the value: blue\n",
            "Enter the key: 4\n",
            "Enter the value: yellow\n",
            "Enter the key: 5\n",
            "Enter the value: pink\n",
            "Dictionary elements are: \n",
            "\n",
            "1 red\n",
            "2 green\n",
            "3 blue\n",
            "4 yellow\n",
            "5 pink\n"
          ]
        }
      ]
    },
    {
      "cell_type": "code",
      "source": [
        "# Experiment 9\n",
        "import numpy as np\n",
        "li = list(map(int,input().split()))\n",
        "a = np.array(li)\n",
        "print(\"The Numpy Array is:\",a)\n"
      ],
      "metadata": {
        "colab": {
          "base_uri": "https://localhost:8080/"
        },
        "id": "KRwRWbdePUex",
        "outputId": "b568023b-7934-403e-af48-2704c5e7a723"
      },
      "execution_count": null,
      "outputs": [
        {
          "output_type": "stream",
          "name": "stdout",
          "text": [
            "1 2 3 4 5\n",
            "The Numpy Array is: [1 2 3 4 5]\n"
          ]
        }
      ]
    },
    {
      "cell_type": "code",
      "source": [
        "# Experiment 10\n",
        "import numpy as np\n",
        "li = list(map(int,input().split()))\n",
        "tu = tuple(map(int,input().split()))\n",
        "\n",
        "a1 = np.array(li)\n",
        "a2 = np.array(tu)\n",
        "a12 = np.concatenate((a1,a2))\n",
        "print(\"The combined array is:\",a12)\n",
        "print(type(a12))\n",
        "\n"
      ],
      "metadata": {
        "colab": {
          "base_uri": "https://localhost:8080/"
        },
        "id": "fCo6np6YQcki",
        "outputId": "71c44025-cac0-4430-ca95-0975cd67f0de"
      },
      "execution_count": null,
      "outputs": [
        {
          "output_type": "stream",
          "name": "stdout",
          "text": [
            "1 2 3 4 5\n",
            "6 7 8 9\n",
            "The combined array is: [1 2 3 4 5 6 7 8 9]\n",
            "<class 'numpy.ndarray'>\n"
          ]
        }
      ]
    },
    {
      "cell_type": "code",
      "source": [
        "# Experiment 11\n",
        "import numpy as np\n",
        "import pandas as pd\n",
        "a = np.random.rand(3)\n",
        "print(\"Array:\",a)\n",
        "df1 = pd.DataFrame(a)\n",
        "print(\"DataFrame:\\n\", df1,\"\\n\", type(df1),)\n",
        "\n",
        "s = pd.Series(a)\n",
        "print(\"\\nSeries:\\n\",s)\n",
        "df2 = pd.DataFrame(s)\n",
        "print(\"DataFrame:\\n\", df2, \"\\n\", type(df2))\n"
      ],
      "metadata": {
        "colab": {
          "base_uri": "https://localhost:8080/"
        },
        "id": "2OL2rpTcSEOF",
        "outputId": "747b61b6-05d4-4554-b38e-4808cdbd7d3d"
      },
      "execution_count": null,
      "outputs": [
        {
          "output_type": "stream",
          "name": "stdout",
          "text": [
            "Array: [0.86660759 0.41607233 0.32415873]\n",
            "DataFrame:\n",
            "           0\n",
            "0  0.866608\n",
            "1  0.416072\n",
            "2  0.324159 \n",
            " <class 'pandas.core.frame.DataFrame'>\n",
            "\n",
            "Series:\n",
            " 0    0.866608\n",
            "1    0.416072\n",
            "2    0.324159\n",
            "dtype: float64\n",
            "DataFrame:\n",
            "           0\n",
            "0  0.866608\n",
            "1  0.416072\n",
            "2  0.324159 \n",
            " <class 'pandas.core.frame.DataFrame'>\n"
          ]
        }
      ]
    },
    {
      "cell_type": "code",
      "source": [
        "# Experiment 12\n",
        "import pandas as pd\n",
        "s1 = pd.Series([1, 2, 3, 4, 5])\n",
        "s2 = pd.Series([2, 4, 6, 8, 10])\n",
        "print(\"Addition: \\n\", s1 + s2)\n",
        "print(\"Subtraction: \\n\", s1 - s2)\n",
        "print(\"Multiplication: \\n\", s1 * s2)\n",
        "print(\"Division: \\n\", s1 / s2)"
      ],
      "metadata": {
        "colab": {
          "base_uri": "https://localhost:8080/"
        },
        "id": "s-PJAX8GoU9Y",
        "outputId": "e9b577c2-0319-4ded-8a72-e18d5cb83afc"
      },
      "execution_count": null,
      "outputs": [
        {
          "output_type": "stream",
          "name": "stdout",
          "text": [
            "Addition: \n",
            " 0     3\n",
            "1     6\n",
            "2     9\n",
            "3    12\n",
            "4    15\n",
            "dtype: int64\n",
            "Subtraction: \n",
            " 0   -1\n",
            "1   -2\n",
            "2   -3\n",
            "3   -4\n",
            "4   -5\n",
            "dtype: int64\n",
            "Multiplication: \n",
            " 0     2\n",
            "1     8\n",
            "2    18\n",
            "3    32\n",
            "4    50\n",
            "dtype: int64\n",
            "Division: \n",
            " 0    0.5\n",
            "1    0.5\n",
            "2    0.5\n",
            "3    0.5\n",
            "4    0.5\n",
            "dtype: float64\n"
          ]
        }
      ]
    }
  ]
}